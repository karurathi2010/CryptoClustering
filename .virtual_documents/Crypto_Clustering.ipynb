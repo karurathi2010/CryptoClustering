# Import required libraries and dependencies
import pandas as pd
import hvplot.pandas
from sklearn.cluster import KMeans
from sklearn.decomposition import PCA
from sklearn.preprocessing import StandardScaler
import matplotlib.pyplot as plt
import warnings
warnings.filterwarnings('ignore')


# Load the data into a Pandas DataFrame
df_market_data = pd.read_csv(
    "Resources/crypto_market_data.csv",
    index_col="coin_id")

# Display sample data
df_market_data.head(10)


# Generate summary statistics
df_market_data.describe()


# Plot your data to see what's in your DataFrame
df_market_data.hvplot.line(
    width=800,
    height=400,
    rot=90,
    title='Cryptocurrency Price Change Trends Over Time'
)





num_cols=list(df_market_data.dtypes[df_market_data.dtypes=='float64'].index)


# Use the `StandardScaler()` module from scikit-learn to normalize the data from the CSV file
transform_market_data=StandardScaler().fit_transform(df_market_data[num_cols])



# Create a DataFrame with the scaled data
df_market_data_scaled=pd.DataFrame(transform_market_data,columns=num_cols)

# Copy the crypto names from the original data
# Set the coinid column as index
df_market_data_scaled.index=df_market_data.index

# Display sample data
df_market_data_scaled.head()








# Create a list with the number of k-values from 1 to 11
k=list(range(1,11))


# Create an empty list to store the inertia values

inertia=[]
# Create a for loop to compute the inertia with each possible value of k
# Inside the loop:
# 1. Create a KMeans model using the loop counter for the n_clusters
# 2. Fit the model to the data using `df_market_data_scaled`
# 3. Append the model.inertia_ to the inertia list
for i in k:
    model=KMeans(n_clusters=i,random_state=1)
    model.fit(df_market_data_scaled)
    inertia.append(model.inertia_)



# Create a dictionary with the data to plot the Elbow curve
elbow={"k":k,"inertia":inertia}

# Create a DataFrame with the data to plot the Elbow curve
elbow_df=pd.DataFrame(elbow)



# Plot a line chart with all the inertia values computed with 
# the different values of k to visually identify the optimal value for k.
original_elbow_plot=elbow_df.hvplot.line(x='k',
                     y='inertia',
                     title='Optimal K Selection for Clustering: Elbow Analysis of Scaled Market Data')
original_elbow_plot











# Initialize the K-Means model using the best value for k
model=KMeans(n_clusters=4,random_state=1)


# Fit the K-Means model using the scaled data
model.fit(df_market_data_scaled)


# Predict the clusters to group the cryptocurrencies using the scaled data

result=model.predict(df_market_data_scaled)
# Print the resulting array of cluster values.
result


# Create a copy of the DataFrame
another_df_market_data_scaled=df_market_data_scaled.copy()


# Add a new column to the DataFrame with the predicted clusters
another_df_market_data_scaled['labels']=result

# Display sample data
another_df_market_data_scaled.head()


# Create a scatter plot using hvPlot by setting 
# `x="price_change_percentage_24h"` and `y="price_change_percentage_7d"`. 
# Color the graph points with the labels found using K-Means and 
# add the crypto name in the `hover_cols` parameter to identify 
# the cryptocurrency represented by each data point.
original_data_clusters=another_df_market_data_scaled.hvplot.scatter(x='price_change_percentage_24h',
                                             y='price_change_percentage_7d',
                                             by='labels',
                                             hover_cols='coin_id',
                                             title='Cluster Analysis of Cryptocurrency Price Changes'                       
                                                                   )
original_data_clusters








# Create a PCA model instance and set `n_components=3`.
pca=PCA(n_components=3)



# Use the PCA model with `fit_transform` to reduce to 
# three principal components.
pca.fit(df_market_data_scaled)
pca_data=pca.transform(df_market_data_scaled)

# View the first five rows of the DataFrame. 
pca_data[:5]


# Retrieve the explained variance to determine how much information 
# can be attributed to each principal component.
pca.explained_variance_ratio_





# Create a new DataFrame with the PCA data.
df_market_data_pca=pd.DataFrame(pca_data,columns=['PC1','PC2','PC3'])
# Creating a DataFrame with the PCA data

# Copy the crypto names from the original data


# Set the coinid column as index
df_market_data_pca.index=df_market_data.index

# Display sample data
df_market_data_pca.head()








# Create a list with the number of k-values from 1 to 11
k=list(range(1,11))


# Create an empty list to store the inertia values

inertia=[]
# Create a for loop to compute the inertia with each possible value of k
# Inside the loop:
# 1. Create a KMeans model using the loop counter for the n_clusters
# 2. Fit the model to the data using `df_market_data_pca`
# 3. Append the model.inertia_ to the inertia list
for i in k:
    model=KMeans(n_clusters=i,random_state=1)
    model.fit(df_market_data_pca)
    inertia.append(model.inertia_)


# Create a dictionary with the data to plot the Elbow curve
elbows={"k":k,"inertia":inertia}
# Create a DataFrame with the data to plot the Elbow curve
elbows_df=pd.DataFrame(elbows)
elbows_df


# Plot a line chart with all the inertia values computed with 
# the different values of k to visually identify the optimal value for k.
pca_elbow_plot=elbows_df.hvplot.line(x='k',
                      y='inertia',
                      title='Determining Optimal K for Clustering: Elbow Analysis of PCA-Transformed Data')
pca_elbow_plot








# Initialize the K-Means model using the best value for k
model=KMeans(n_clusters=4,random_state=1)



# Fit the K-Means model using the PCA data
model.fit(df_market_data_pca)


# Predict the clusters to group the cryptocurrencies using the PCA data
result=model.predict(df_market_data_pca)
# Print the resulting array of cluster values.
result


# Create a copy of the DataFrame with the PCA data
another_df_market_data_pca=df_market_data_pca.copy()

# Add a new column to the DataFrame with the predicted clusters
another_df_market_data_pca['labels']=result

# Display sample data
another_df_market_data_pca.head()


# Create a scatter plot using hvPlot by setting 
# `x="PC1"` and `y="PC2"`. 
# Color the graph points with the labels found using K-Means and 
# add the crypto name in the `hover_cols` parameter to identify 
# the cryptocurrency represented by each data point.
pca_data_clusters=another_df_market_data_pca.hvplot.scatter(x='PC1',
                                          y='PC2',
                                          by='labels',
                                          hover_cols='coin_id',
                                          title='Cluster Analysis of Cryptocurrency Market Data Using PCA: Scatter Plot'                 )
pca_data_clusters


#3d plot of PCA DataFrame(Bonus)
import plotly.express as plotly_express
figure = plotly_express.scatter_3d(another_df_market_data_pca,
                                   x='PC1',
                                   y='PC2',
                                   z='PC3',
                                   color='labels',
                                   title='Cluster Analysis of Cryptocurrency Market Data Using PCA: 3D Scatter Plot')
figure.update_layout(showlegend=True)
figure.update_layout(
    autosize=False,
    width=700,
    height=570
)
figure.show()





# Composite plot to contrast the Elbow curves
composite_elbow_plot=original_elbow_plot + pca_elbow_plot
composite_elbow_plot


# Composite plot to contrast the clusters
composit_cluster_plot=original_data_clusters + pca_data_clusters
composit_cluster_plot



